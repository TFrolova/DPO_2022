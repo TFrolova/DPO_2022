{
 "cells": [
  {
   "cell_type": "code",
   "execution_count": 59,
   "id": "9c4557ef",
   "metadata": {},
   "outputs": [],
   "source": [
    "import pandas as pd\n",
    "import os\n",
    "import re"
   ]
  },
  {
   "cell_type": "code",
   "execution_count": 3,
   "id": "58f17041",
   "metadata": {},
   "outputs": [
    {
     "data": {
      "text/plain": [
       "['little_json.json', '.DS_Store', 'preprocessed_corpus.json', 'lenta.txt']"
      ]
     },
     "execution_count": 3,
     "metadata": {},
     "output_type": "execute_result"
    }
   ],
   "source": [
    "os.listdir('../data')"
   ]
  },
  {
   "cell_type": "code",
   "execution_count": 25,
   "id": "63063171",
   "metadata": {},
   "outputs": [
    {
     "name": "stdout",
     "output_type": "stream",
     "text": [
      "TF-IDF.ipynb       hmm.ipynb          morphology.ipynb   spacy_ner.ipynb\r\n",
      "collocations.ipynb lenta.txt          practice.ipynb     word2vec.ipynb\r\n"
     ]
    }
   ],
   "source": [
    "!ls"
   ]
  },
  {
   "cell_type": "code",
   "execution_count": 5,
   "id": "abcafbb1",
   "metadata": {},
   "outputs": [],
   "source": [
    "path = '/Users/marinapozidaeva/notebooks/DPO_2022/data/lenta.txt'"
   ]
  },
  {
   "cell_type": "code",
   "execution_count": 6,
   "id": "de77a7d8",
   "metadata": {},
   "outputs": [
    {
     "data": {
      "text/plain": [
       "'/Users/marinapozidaeva/notebooks/DPO_2022/data/lenta.txt'"
      ]
     },
     "execution_count": 6,
     "metadata": {},
     "output_type": "execute_result"
    }
   ],
   "source": [
    "os.path.abspath(path)"
   ]
  },
  {
   "cell_type": "code",
   "execution_count": 7,
   "id": "1e373160",
   "metadata": {},
   "outputs": [],
   "source": [
    "with open(path) as f:\n",
    "    data = f.read()"
   ]
  },
  {
   "cell_type": "code",
   "execution_count": 21,
   "id": "34bcc6ec",
   "metadata": {},
   "outputs": [
    {
     "name": "stdout",
     "output_type": "stream",
     "text": [
      "/Users/marinapozidaeva/notebooks/DPO_2022/notebooks\r\n"
     ]
    }
   ],
   "source": [
    "!pwd"
   ]
  },
  {
   "cell_type": "code",
   "execution_count": 23,
   "id": "1cd8088f",
   "metadata": {},
   "outputs": [
    {
     "data": {
      "text/plain": [
       "'/Users/marinapozidaeva/notebooks/DPO_2022/notebooks'"
      ]
     },
     "execution_count": 23,
     "metadata": {},
     "output_type": "execute_result"
    }
   ],
   "source": [
    "os.path.abspath('.')"
   ]
  },
  {
   "cell_type": "code",
   "execution_count": 24,
   "id": "fd206bc0",
   "metadata": {},
   "outputs": [
    {
     "name": "stdout",
     "output_type": "stream",
     "text": [
      "Archive:  ../lenta.txt.zip\n",
      "  inflating: ../lenta.txt            \n"
     ]
    }
   ],
   "source": [
    "!unzip ../lenta.txt.zip -d .."
   ]
  },
  {
   "cell_type": "code",
   "execution_count": 20,
   "id": "2f0e8607",
   "metadata": {},
   "outputs": [
    {
     "name": "stdout",
     "output_type": "stream",
     "text": [
      "UnZip 6.00 of 20 April 2009, by Info-ZIP.  Maintained by C. Spieler.  Send\r\n",
      "bug reports using http://www.info-zip.org/zip-bug.html; see README for details.\r\n",
      "\r\n",
      "Usage: unzip [-Z] [-opts[modifiers]] file[.zip] [list] [-x xlist] [-d exdir]\r\n",
      "  Default action is to extract files in list, except those in xlist, to exdir;\r\n",
      "  file[.zip] may be a wildcard.  -Z => ZipInfo mode (\"unzip -Z\" for usage).\r\n",
      "\r\n",
      "  -p  extract files to pipe, no messages     -l  list files (short format)\r\n",
      "  -f  freshen existing files, create none    -t  test compressed archive data\r\n",
      "  -u  update files, create if necessary      -z  display archive comment only\r\n",
      "  -v  list verbosely/show version info       -T  timestamp archive to latest\r\n",
      "  -x  exclude files that follow (in xlist)   -d  extract files into exdir\r\n",
      "modifiers:\r\n",
      "  -n  never overwrite existing files         -q  quiet mode (-qq => quieter)\r\n",
      "  -o  overwrite files WITHOUT prompting      -a  auto-convert any text files\r\n",
      "  -j  junk paths (do not make directories)   -aa treat ALL files as text\r",
      "\r\n",
      "  -C  match filenames case-insensitively     -L  make (some) names lowercase\r\n",
      "  -X  restore UID/GID info                   -V  retain VMS version numbers\r\n",
      "  -K  keep setuid/setgid/tacky permissions   -M  pipe through \"more\" pager\r\n",
      "See \"unzip -hh\" or unzip.txt for more help.  Examples:\r\n",
      "  unzip data1 -x joe   => extract all files except joe from zipfile data1.zip\r\n",
      "  unzip -p foo | more  => send contents of foo.zip via pipe into program more\r\n",
      "  unzip -fo foo ReadMe => quietly replace existing ReadMe if archive file newer\r\n"
     ]
    }
   ],
   "source": [
    "!unzip --help"
   ]
  },
  {
   "cell_type": "code",
   "execution_count": 8,
   "id": "d567bd50",
   "metadata": {},
   "outputs": [],
   "source": [
    "texts = data.split('\\n')"
   ]
  },
  {
   "cell_type": "code",
   "execution_count": null,
   "id": "da588a7e",
   "metadata": {},
   "outputs": [],
   "source": [
    "# list comprehension\n",
    "[t for t in texts]"
   ]
  },
  {
   "cell_type": "code",
   "execution_count": null,
   "id": "1bf201d2",
   "metadata": {},
   "outputs": [],
   "source": []
  },
  {
   "cell_type": "code",
   "execution_count": 33,
   "id": "7bedf6db",
   "metadata": {},
   "outputs": [],
   "source": [
    "text2 = []\n",
    "for i in texts:\n",
    "    text2.append(i)"
   ]
  },
  {
   "cell_type": "code",
   "execution_count": 9,
   "id": "4553da58",
   "metadata": {},
   "outputs": [],
   "source": [
    "texts = [t for t in texts if t != '']"
   ]
  },
  {
   "cell_type": "code",
   "execution_count": null,
   "id": "34394254",
   "metadata": {},
   "outputs": [],
   "source": []
  },
  {
   "cell_type": "code",
   "execution_count": 12,
   "id": "b8335ee3",
   "metadata": {},
   "outputs": [
    {
     "data": {
      "text/html": [
       "<div>\n",
       "<style scoped>\n",
       "    .dataframe tbody tr th:only-of-type {\n",
       "        vertical-align: middle;\n",
       "    }\n",
       "\n",
       "    .dataframe tbody tr th {\n",
       "        vertical-align: top;\n",
       "    }\n",
       "\n",
       "    .dataframe thead th {\n",
       "        text-align: right;\n",
       "    }\n",
       "</style>\n",
       "<table border=\"1\" class=\"dataframe\">\n",
       "  <thead>\n",
       "    <tr style=\"text-align: right;\">\n",
       "      <th></th>\n",
       "      <th>text</th>\n",
       "    </tr>\n",
       "  </thead>\n",
       "  <tbody>\n",
       "    <tr>\n",
       "      <th>0</th>\n",
       "      <td>Бои у Сопоцкина и Друскеник закончились отступ...</td>\n",
       "    </tr>\n",
       "    <tr>\n",
       "      <th>1</th>\n",
       "      <td>«Русский инвалид», 16 сентября 1914 года.Минис...</td>\n",
       "    </tr>\n",
       "    <tr>\n",
       "      <th>2</th>\n",
       "      <td>«Русский инвалид», 16 сентября 1914 года.Штабс...</td>\n",
       "    </tr>\n",
       "    <tr>\n",
       "      <th>3</th>\n",
       "      <td>Журнал «Нива» №37, сентябрь 1914 годаЛица, при...</td>\n",
       "    </tr>\n",
       "    <tr>\n",
       "      <th>4</th>\n",
       "      <td>КИЕВ, 7 сентября. Сегодня украинская Верховная...</td>\n",
       "    </tr>\n",
       "    <tr>\n",
       "      <th>...</th>\n",
       "      <td>...</td>\n",
       "    </tr>\n",
       "    <tr>\n",
       "      <th>109</th>\n",
       "      <td>Программа должна быть \"амбициозной по созданию...</td>\n",
       "    </tr>\n",
       "    <tr>\n",
       "      <th>110</th>\n",
       "      <td>Проведенный 18 мая сего года обыск в помещени...</td>\n",
       "    </tr>\n",
       "    <tr>\n",
       "      <th>111</th>\n",
       "      <td>руководители России и ЕСподтверждают важность ...</td>\n",
       "    </tr>\n",
       "    <tr>\n",
       "      <th>112</th>\n",
       "      <td>Для достижения  мира чеченская сторона  может ...</td>\n",
       "    </tr>\n",
       "    <tr>\n",
       "      <th>113</th>\n",
       "      <td>domain:  NINTENDO.RUstate:   Not delegatedstat...</td>\n",
       "    </tr>\n",
       "  </tbody>\n",
       "</table>\n",
       "<p>114 rows × 1 columns</p>\n",
       "</div>"
      ],
      "text/plain": [
       "                                                  text\n",
       "0    Бои у Сопоцкина и Друскеник закончились отступ...\n",
       "1    «Русский инвалид», 16 сентября 1914 года.Минис...\n",
       "2    «Русский инвалид», 16 сентября 1914 года.Штабс...\n",
       "3    Журнал «Нива» №37, сентябрь 1914 годаЛица, при...\n",
       "4    КИЕВ, 7 сентября. Сегодня украинская Верховная...\n",
       "..                                                 ...\n",
       "109  Программа должна быть \"амбициозной по созданию...\n",
       "110   Проведенный 18 мая сего года обыск в помещени...\n",
       "111  руководители России и ЕСподтверждают важность ...\n",
       "112  Для достижения  мира чеченская сторона  может ...\n",
       "113  domain:  NINTENDO.RUstate:   Not delegatedstat...\n",
       "\n",
       "[114 rows x 1 columns]"
      ]
     },
     "execution_count": 12,
     "metadata": {},
     "output_type": "execute_result"
    }
   ],
   "source": [
    "df = pd.DataFrame(texts, columns=['text'])\n",
    "df"
   ]
  },
  {
   "cell_type": "code",
   "execution_count": 21,
   "id": "c8aa1186",
   "metadata": {},
   "outputs": [],
   "source": [
    "from collections import Counter"
   ]
  },
  {
   "cell_type": "code",
   "execution_count": 97,
   "id": "4362e7e5",
   "metadata": {},
   "outputs": [
    {
     "data": {
      "text/plain": [
       "'Бои у Сопоцкина и Друскеник закончились отступлением германцев. Неприятель, приблизившись с севера к Осовцу начал артиллерийскую борьбу с крепостью. В артиллерийском бою принимают участие тяжелые калибры. С раннего утра 14 сентября огонь достиг значительного напряжения. Попытка германской пехоты пробиться ближе к крепости отражена. В Галиции мы заняли Дембицу. Большая колонна, отступавшая по шоссе от Перемышля к Саноку, обстреливалась с высот нашей батареей и бежала, бросив парки, обоз и автомобили. Вылазки гарнизона Перемышля остаются безуспешными. При продолжающемся отступлении австрийцев обнаруживается полное перемешивание их частей, захватываются новые партии пленных, орудия и прочая материальная часть. На перевале Ужок мы разбили неприятельский отряд, взяли его артиллерию и много пленных и, продолжая преследовать, вступили в пределы Венгрии. '"
      ]
     },
     "execution_count": 97,
     "metadata": {},
     "output_type": "execute_result"
    }
   ],
   "source": [
    "text = df.text.iloc[0]\n",
    "text"
   ]
  },
  {
   "cell_type": "code",
   "execution_count": 50,
   "id": "19376ace",
   "metadata": {},
   "outputs": [
    {
     "data": {
      "text/plain": [
       "{'text': 'Бои у Сопоцкина и Друскеник закончились отступлением германцев. Неприятель, приблизившись с севера к Осовцу начал артиллерийскую борьбу с крепостью. В артиллерийском бою принимают участие тяжелые калибры. С раннего утра 14 сентября огонь достиг значительного напряжения. Попытка германской пехоты пробиться ближе к крепости отражена. В Галиции мы заняли Дембицу. Большая колонна, отступавшая по шоссе от Перемышля к Саноку, обстреливалась с высот нашей батареей и бежала, бросив парки, обоз и автомобили. Вылазки гарнизона Перемышля остаются безуспешными. При продолжающемся отступлении австрийцев обнаруживается полное перемешивание их частей, захватываются новые партии пленных, орудия и прочая материальная часть. На перевале Ужок мы разбили неприятельский отряд, взяли его артиллерию и много пленных и, продолжая преследовать, вступили в пределы Венгрии. '}"
      ]
     },
     "execution_count": 50,
     "metadata": {},
     "output_type": "execute_result"
    }
   ],
   "source": [
    "dict(df.iloc[0])"
   ]
  },
  {
   "cell_type": "code",
   "execution_count": 52,
   "id": "bbe07423",
   "metadata": {},
   "outputs": [
    {
     "data": {
      "text/plain": [
       "'Бои у Сопоцкина и Друскеник закончились отступлением германцев. Неприятель, приблизившись с севера к Осовцу начал артиллерийскую борьбу с крепостью. В артиллерийском бою принимают участие тяжелые калибры. С раннего утра 14 сентября огонь достиг значительного напряжения. Попытка германской пехоты пробиться ближе к крепости отражена. В Галиции мы заняли Дембицу. Большая колонна, отступавшая по шоссе от Перемышля к Саноку, обстреливалась с высот нашей батареей и бежала, бросив парки, обоз и автомобили. Вылазки гарнизона Перемышля остаются безуспешными. При продолжающемся отступлении австрийцев обнаруживается полное перемешивание их частей, захватываются новые партии пленных, орудия и прочая материальная часть. На перевале Ужок мы разбили неприятельский отряд, взяли его артиллерию и много пленных и, продолжая преследовать, вступили в пределы Венгрии. '"
      ]
     },
     "execution_count": 52,
     "metadata": {},
     "output_type": "execute_result"
    }
   ],
   "source": [
    "df.loc[0].text"
   ]
  },
  {
   "cell_type": "code",
   "execution_count": 72,
   "id": "34ccf24d",
   "metadata": {},
   "outputs": [],
   "source": [
    "text = 'г-жа кто-то!'"
   ]
  },
  {
   "cell_type": "code",
   "execution_count": null,
   "id": "264de453",
   "metadata": {},
   "outputs": [],
   "source": []
  },
  {
   "cell_type": "code",
   "execution_count": null,
   "id": "0a778fab",
   "metadata": {},
   "outputs": [],
   "source": []
  },
  {
   "cell_type": "code",
   "execution_count": null,
   "id": "4b365062",
   "metadata": {},
   "outputs": [],
   "source": []
  },
  {
   "cell_type": "code",
   "execution_count": 101,
   "id": "b5ca7684",
   "metadata": {},
   "outputs": [],
   "source": [
    "from pymystem3 import Mystem\n",
    "from tqdm import tqdm"
   ]
  },
  {
   "cell_type": "code",
   "execution_count": 61,
   "id": "f766d07f",
   "metadata": {},
   "outputs": [],
   "source": [
    "m = Mystem()"
   ]
  },
  {
   "cell_type": "code",
   "execution_count": null,
   "id": "ef97078f",
   "metadata": {},
   "outputs": [],
   "source": [
    "bigrams = []"
   ]
  },
  {
   "cell_type": "code",
   "execution_count": 100,
   "id": "49f723d5",
   "metadata": {},
   "outputs": [],
   "source": [
    "word2bigram = {'бегать': ['бегать в', \"он бегать\"]}"
   ]
  },
  {
   "cell_type": "code",
   "execution_count": 118,
   "id": "251c6b7f",
   "metadata": {},
   "outputs": [],
   "source": [
    "from nltk import sent_tokenize"
   ]
  },
  {
   "cell_type": "code",
   "execution_count": null,
   "id": "02356871",
   "metadata": {},
   "outputs": [],
   "source": []
  },
  {
   "cell_type": "code",
   "execution_count": null,
   "id": "72c777c1",
   "metadata": {},
   "outputs": [],
   "source": []
  },
  {
   "cell_type": "code",
   "execution_count": null,
   "id": "e124e5ff",
   "metadata": {},
   "outputs": [],
   "source": []
  },
  {
   "cell_type": "code",
   "execution_count": null,
   "id": "0c7e7416",
   "metadata": {},
   "outputs": [],
   "source": []
  },
  {
   "cell_type": "code",
   "execution_count": 120,
   "id": "558f0671",
   "metadata": {},
   "outputs": [],
   "source": [
    "def preprocess(text):\n",
    "    texts = []\n",
    "    for sentence in sent_tokenize(text):\n",
    "        preprocessed_text = ' '.join([t for t in m.lemmatize(text) if re.search('[\\w\\d]', t)])\n",
    "        texts.append(preprocessed_text)\n",
    "    return texts # list of strings\n",
    "\n",
    "def get_bigrams(text):\n",
    "    text = preprocess(text).split()\n",
    "    bigrams = []\n",
    "#     for n, word in enumerate(text[:-1]):\n",
    "#         bigrams.append((word, text[n + 1]))\n",
    "    for n, word in enumerate(text[:-1]):\n",
    "        bigrams.append((word, text[n + 1]))\n",
    "    return bigrams\n",
    "\n",
    "def get_word2bigram(dataset_list): # get word2bigram\n",
    "    word2bigram = {}\n",
    "    \n",
    "    for i in word2bigram:\n",
    "        # add code\n",
    "        pass\n",
    "    \n",
    "    return word2bigram\n",
    "\n",
    "def search_in_word2bigram(text, word2bigram): # search in word2bigram\n",
    "    \n",
    "    # add regex\n",
    "    \n",
    "    return word2bigram.get(text, [])"
   ]
  },
  {
   "cell_type": "code",
   "execution_count": null,
   "id": "f1445079",
   "metadata": {},
   "outputs": [],
   "source": []
  },
  {
   "cell_type": "code",
   "execution_count": 121,
   "id": "d486a70a",
   "metadata": {},
   "outputs": [],
   "source": [
    "word2bigram = get_word2bigram(df.text.tolist())"
   ]
  },
  {
   "cell_type": "code",
   "execution_count": 113,
   "id": "f2dd8a46",
   "metadata": {},
   "outputs": [
    {
     "data": {
      "text/plain": [
       "0"
      ]
     },
     "execution_count": 113,
     "metadata": {},
     "output_type": "execute_result"
    }
   ],
   "source": [
    "len(word2bigram)"
   ]
  },
  {
   "cell_type": "code",
   "execution_count": null,
   "id": "117f286b",
   "metadata": {},
   "outputs": [],
   "source": []
  },
  {
   "cell_type": "code",
   "execution_count": 98,
   "id": "4ca33132",
   "metadata": {},
   "outputs": [],
   "source": [
    "bigrams = get_bigrams(text)"
   ]
  },
  {
   "cell_type": "code",
   "execution_count": 99,
   "id": "7c2b0092",
   "metadata": {},
   "outputs": [
    {
     "data": {
      "text/plain": [
       "[('бой', 'у'),\n",
       " ('у', 'сопоцкин'),\n",
       " ('сопоцкин', 'и'),\n",
       " ('и', 'друскеник'),\n",
       " ('друскеник', 'заканчиваться'),\n",
       " ('заканчиваться', 'отступление'),\n",
       " ('отступление', 'германец'),\n",
       " ('германец', 'неприятель'),\n",
       " ('неприятель', 'приближаться'),\n",
       " ('приближаться', 'с'),\n",
       " ('с', 'север'),\n",
       " ('север', 'к'),\n",
       " ('к', 'осовец'),\n",
       " ('осовец', 'начинать'),\n",
       " ('начинать', 'артиллерийский'),\n",
       " ('артиллерийский', 'борьба'),\n",
       " ('борьба', 'с'),\n",
       " ('с', 'крепость'),\n",
       " ('крепость', 'в'),\n",
       " ('в', 'артиллерийский')]"
      ]
     },
     "execution_count": 99,
     "metadata": {},
     "output_type": "execute_result"
    }
   ],
   "source": [
    "bigrams[:20]"
   ]
  },
  {
   "cell_type": "code",
   "execution_count": 25,
   "id": "b9b82a96",
   "metadata": {},
   "outputs": [
    {
     "data": {
      "text/plain": [
       "[(0, 'это'), (1, 'наш'), (2, 'текст')]"
      ]
     },
     "execution_count": 25,
     "metadata": {},
     "output_type": "execute_result"
    }
   ],
   "source": [
    "[(n, word) for n, word in enumerate(text)]"
   ]
  },
  {
   "cell_type": "code",
   "execution_count": null,
   "id": "48616f5a",
   "metadata": {},
   "outputs": [],
   "source": [
    "[('это', 'наш') ...]"
   ]
  }
 ],
 "metadata": {
  "kernelspec": {
   "display_name": "Python 3 (ipykernel)",
   "language": "python",
   "name": "python3"
  },
  "language_info": {
   "codemirror_mode": {
    "name": "ipython",
    "version": 3
   },
   "file_extension": ".py",
   "mimetype": "text/x-python",
   "name": "python",
   "nbconvert_exporter": "python",
   "pygments_lexer": "ipython3",
   "version": "3.9.12"
  }
 },
 "nbformat": 4,
 "nbformat_minor": 5
}
